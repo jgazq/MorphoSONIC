{
 "cells": [
  {
   "cell_type": "markdown",
   "metadata": {},
   "source": [
    "# Unmyelinated neuron fiber model"
   ]
  },
  {
   "cell_type": "markdown",
   "metadata": {},
   "source": [
    "## Objectives\n",
    "- Create unmyelinated neuron fiber model based on myelinated case.\n",
    "- Check simulated treshold current convergence dependence on the node length for the classic connection scheme.\n",
    "- Check simulated treshold current convergence dependence on the node length for the custom connection scheme.\n",
    "- Run the simulations for the obtained node length.\n",
    "- Calculate conduction velocity.\n",
    "- Compute a strength-duration curve and calculate the chronaxie."
   ]
  },
  {
   "cell_type": "markdown",
   "metadata": {},
   "source": [
    "## Rationale\n",
    "To move from the myelinated case to unmyelinated case the main assumption we made in the model is that now the internodal length will be equal to 0. That is how we make sure that there is no myelin sheat included in the model. For a given fiber length there might be a different number of nodes. This will affect the treshold current needed to elicit action potential. If the node length is too big, the action potential does not propagate. If the node length is too small, the computation time of the simulations rises drastically. That is why it is needed to find a node length treshold. For these purposes, the node length when the treshold current value converges is found. Thus, with the following increase in the number of nodes the stimulation results will be the same. <br>\n",
    "Also, there is a need to check the difference in the convergence results for the custom and classic connection schemes to validated the results obtained for the custom connection scheme."
   ]
  },
  {
   "cell_type": "markdown",
   "metadata": {},
   "source": [
    "## Imports"
   ]
  },
  {
   "cell_type": "code",
   "execution_count": 1,
   "metadata": {},
   "outputs": [],
   "source": [
    "import os\n",
    "import logging\n",
    "import numpy as np\n",
    "import matplotlib.pyplot as plt\n",
    "\n",
    "from PySONIC.core import PulsedProtocol\n",
    "from PySONIC.neurons import getPointNeuron\n",
    "from PySONIC.utils import logger, si_format\n",
    "from ExSONIC.core import IextraFiber, unmyelinatedFiber, ExtracellularCurrent, convergence\n",
    "from ExSONIC.plt import SectionCompTimeSeries, strengthDurationCurve\n",
    "\n",
    "#Set logging level\n",
    "import logging\n",
    "logger.setLevel(logging.WARNING)"
   ]
  },
  {
   "cell_type": "markdown",
   "metadata": {},
   "source": [
    "Let's define the model parameters:"
   ]
  },
  {
   "cell_type": "code",
   "execution_count": 2,
   "metadata": {},
   "outputs": [],
   "source": [
    "# Fiber model parameters\n",
    "pneuron = getPointNeuron('FH')       # mammalian fiber membrane equations\n",
    "fiberD = 10e-6                       # fiber diameter (m)\n",
    "rho_a = 54.7                         # axoplasm resistivity (Ohm.cm)\n",
    "d_ratio = 0.6                        # axon / fiber diameter ratio\n",
    "fiberL = 1e-2                        # fiber length (m) \n",
    "\n",
    "# Intracellular stimulation parameters\n",
    "pp = PulsedProtocol(100e-6, 3e-2)\n",
    "\n",
    "x0 = 0                  # point-electrode located above central node (m)\n",
    "z0 = 0.5*100*fiberD     # point-electrode to fiber distance (m, 1 internode length)\n",
    "mode = 'cathode'        # cathodic pulse   \n",
    "rho_e = 300.0           # resistivity of external medium (Ohm.cm, from McNeal 1976)"
   ]
  },
  {
   "cell_type": "markdown",
   "metadata": {},
   "source": [
    "Create an intracellular current (cathodic stimulation above the central node at half internodal distance to the node):"
   ]
  },
  {
   "cell_type": "code",
   "execution_count": 3,
   "metadata": {},
   "outputs": [],
   "source": [
    "psource = ExtracellularCurrent((x0, z0), mode=mode, rho=rho_e)"
   ]
  },
  {
   "cell_type": "markdown",
   "metadata": {},
   "source": [
    "Run the convergence detection function:"
   ]
  },
  {
   "cell_type": "code",
   "execution_count": 4,
   "metadata": {},
   "outputs": [
    {
     "name": "stdout",
     "output_type": "stream",
     "text": [
      "[        nan         nan         nan         nan         nan         nan\n",
      "         nan         nan         nan         nan         nan         nan\n",
      "         nan         nan         nan         nan         nan         nan\n",
      "         nan         nan         nan         nan         nan         nan\n",
      "         nan         nan         nan         nan         nan         nan\n",
      "         nan         nan         nan         nan         nan         nan\n",
      "         nan         nan         nan         nan         nan         nan\n",
      "         nan         nan         nan         nan         nan         nan\n",
      "         nan         nan         nan         nan         nan         nan\n",
      "         nan         nan -0.00212372 -0.00210696 -0.00210277 -0.00209021\n",
      " -0.00208602 -0.00208602 -0.00208602 -0.00207738 -0.00207712 -0.00207712\n",
      " -0.00207712 -0.00207738 -0.00207757 -0.00207555 -0.00207555 -0.00207659\n",
      " -0.00207659 -0.00207659 -0.00207659 -0.00207555 -0.00207555 -0.00207555\n",
      " -0.00207555 -0.00207555 -0.00207555 -0.00207555 -0.00207345 -0.00207345\n",
      " -0.00207345 -0.00207345 -0.00207345 -0.00207345 -0.00207345 -0.00207345\n",
      " -0.00207345 -0.00207345 -0.00207345 -0.00207345 -0.00207345 -0.00207345\n",
      " -0.00207345 -0.00207345 -0.00207345 -0.00207345]\n",
      "Maximum node length = nan um\n"
     ]
    },
    {
     "ename": "IndexError",
     "evalue": "list index out of range",
     "output_type": "error",
     "traceback": [
      "\u001b[1;31m---------------------------------------------------------------------------\u001b[0m",
      "\u001b[1;31mIndexError\u001b[0m                                Traceback (most recent call last)",
      "\u001b[1;32m<ipython-input-4-5ac909839276>\u001b[0m in \u001b[0;36m<module>\u001b[1;34m\u001b[0m\n\u001b[0;32m     22\u001b[0m \u001b[0max\u001b[0m\u001b[1;33m.\u001b[0m\u001b[0minvert_xaxis\u001b[0m\u001b[1;33m(\u001b[0m\u001b[1;33m)\u001b[0m\u001b[1;33m\u001b[0m\u001b[1;33m\u001b[0m\u001b[0m\n\u001b[0;32m     23\u001b[0m \u001b[0max\u001b[0m\u001b[1;33m.\u001b[0m\u001b[0mlegend\u001b[0m\u001b[1;33m(\u001b[0m\u001b[1;33m)\u001b[0m\u001b[1;33m\u001b[0m\u001b[1;33m\u001b[0m\u001b[0m\n\u001b[1;32m---> 24\u001b[1;33m \u001b[0max\u001b[0m\u001b[1;33m.\u001b[0m\u001b[0mset_title\u001b[0m\u001b[1;33m(\u001b[0m\u001b[1;34mf'Maximum node length = {si_format(max_nodeL, 2)}m'\u001b[0m\u001b[1;33m)\u001b[0m\u001b[1;33m\u001b[0m\u001b[1;33m\u001b[0m\u001b[0m\n\u001b[0m",
      "\u001b[1;32mc:\\users\\lemaire\\documents\\repositories\\pysonic\\PySONIC\\utils.py\u001b[0m in \u001b[0;36msi_format\u001b[1;34m(x, precision, space)\u001b[0m\n\u001b[0;32m    132\u001b[0m             \u001b[1;31m# vals = list(si_prefixes.values())\u001b[0m\u001b[1;33m\u001b[0m\u001b[1;33m\u001b[0m\u001b[1;33m\u001b[0m\u001b[0m\n\u001b[0;32m    133\u001b[0m             \u001b[0mix\u001b[0m \u001b[1;33m=\u001b[0m \u001b[0mnp\u001b[0m\u001b[1;33m.\u001b[0m\u001b[0msearchsorted\u001b[0m\u001b[1;33m(\u001b[0m\u001b[0mvals\u001b[0m\u001b[1;33m,\u001b[0m \u001b[0mnp\u001b[0m\u001b[1;33m.\u001b[0m\u001b[0mabs\u001b[0m\u001b[1;33m(\u001b[0m\u001b[0mx\u001b[0m\u001b[1;33m)\u001b[0m\u001b[1;33m)\u001b[0m \u001b[1;33m-\u001b[0m \u001b[1;36m1\u001b[0m\u001b[1;33m\u001b[0m\u001b[1;33m\u001b[0m\u001b[0m\n\u001b[1;32m--> 134\u001b[1;33m             \u001b[1;32mif\u001b[0m \u001b[0mnp\u001b[0m\u001b[1;33m.\u001b[0m\u001b[0mabs\u001b[0m\u001b[1;33m(\u001b[0m\u001b[0mx\u001b[0m\u001b[1;33m)\u001b[0m \u001b[1;33m==\u001b[0m \u001b[0mvals\u001b[0m\u001b[1;33m[\u001b[0m\u001b[0mix\u001b[0m \u001b[1;33m+\u001b[0m \u001b[1;36m1\u001b[0m\u001b[1;33m]\u001b[0m\u001b[1;33m:\u001b[0m\u001b[1;33m\u001b[0m\u001b[1;33m\u001b[0m\u001b[0m\n\u001b[0m\u001b[0;32m    135\u001b[0m                 \u001b[0mix\u001b[0m \u001b[1;33m+=\u001b[0m \u001b[1;36m1\u001b[0m\u001b[1;33m\u001b[0m\u001b[1;33m\u001b[0m\u001b[0m\n\u001b[0;32m    136\u001b[0m             \u001b[0mfactor\u001b[0m \u001b[1;33m=\u001b[0m \u001b[0mvals\u001b[0m\u001b[1;33m[\u001b[0m\u001b[0mix\u001b[0m\u001b[1;33m]\u001b[0m\u001b[1;33m\u001b[0m\u001b[1;33m\u001b[0m\u001b[0m\n",
      "\u001b[1;31mIndexError\u001b[0m: list index out of range"
     ]
    },
    {
     "data": {
      "image/png": "[encoded data removed]",
      "text/plain": [
       "<Figure size 432x288 with 1 Axes>"
      ]
     },
     "metadata": {
      "needs_background": "light"
     },
     "output_type": "display_data"
    }
   ],
   "source": [
    "# Choose the node length range\n",
    "nodeL_range = np.logspace(-5, -2, 100)\n",
    "\n",
    "# Run the convergence\n",
    "Ithrs = convergence(pneuron, fiberD, rho_a, d_ratio, fiberL, pp, psource, nodeL_range)\n",
    "print(Ithrs)\n",
    "# Recalculate number of nodes to node length\n",
    "Ithr_ref = Ithrs[-1]\n",
    "max_rel_error = 0.01\n",
    "rel_errors = np.abs((Ithrs - Ithr_ref) / Ithr_ref)\n",
    "max_nodeL = np.interp(max_rel_error, rel_errors, nodeL_range, left=np.nan, right=np.nan)\n",
    "print(f'Maximum node length = {max_nodeL * 1e6:.2f} um')\n",
    "\n",
    "# Plot\n",
    "fig, ax = plt.subplots()\n",
    "ax.plot(nodeL_range, rel_errors * 100, label='errors')\n",
    "ax.axhline(max_rel_error * 100, linestyle='dashed', label='threshold error', color='k')\n",
    "ax.axvline(max_nodeL, label='max length', color='k')\n",
    "ax.set_xlabel('Node length (m)')\n",
    "ax.set_ylabel('relative error (%)')\n",
    "ax.set_xscale('log')\n",
    "ax.invert_xaxis()\n",
    "ax.legend()\n",
    "ax.set_title(f'Maximum node length = {si_format(max_nodeL, 2)}m')"
   ]
  },
  {
   "cell_type": "markdown",
   "metadata": {},
   "source": [
    "The treshold current convergence is shown on the graph above. The relative error (the difference of the treshold current value to the convergence value in percent) rises with the node length. This behaviour is expected as with the rise of the node length it is harder for action potential to propagate. The maximum relative error used here is 1% (shown as a dashed line in the graph). The maximal node length is 162.14 ${\\mu}m$, which leads to the aprroximately 1 min computation time per simulation. <br>\n",
    "During this convergence study only the order of magnitude of the number of node length is defined. For the following simulations a 100 ${\\mu}m$ nodes will be used."
   ]
  },
  {
   "cell_type": "markdown",
   "metadata": {},
   "source": [
    "## Simulations\n",
    "In this section we run the simulation for the found maximal node length and stimulation current 1.2 above the treshold amplitude. For the imaging purposes we will plot every tenth action potential trace."
   ]
  },
  {
   "cell_type": "code",
   "execution_count": 5,
   "metadata": {},
   "outputs": [
    {
     "ename": "ValueError",
     "evalue": "cannot convert float NaN to integer",
     "output_type": "error",
     "traceback": [
      "\u001b[1;31m---------------------------------------------------------------------------\u001b[0m",
      "\u001b[1;31mValueError\u001b[0m                                Traceback (most recent call last)",
      "\u001b[1;32m<ipython-input-5-2f15b0ef2b33>\u001b[0m in \u001b[0;36m<module>\u001b[1;34m\u001b[0m\n\u001b[0;32m      1\u001b[0m \u001b[0mmin_nnodes\u001b[0m \u001b[1;33m=\u001b[0m \u001b[1;36m101\u001b[0m\u001b[1;33m\u001b[0m\u001b[1;33m\u001b[0m\u001b[0m\n\u001b[1;32m----> 2\u001b[1;33m \u001b[0mfiber\u001b[0m \u001b[1;33m=\u001b[0m \u001b[0munmyelinatedFiber\u001b[0m\u001b[1;33m(\u001b[0m\u001b[0mIextraFiber\u001b[0m\u001b[1;33m,\u001b[0m \u001b[0mpneuron\u001b[0m\u001b[1;33m,\u001b[0m \u001b[0mfiberD\u001b[0m\u001b[1;33m,\u001b[0m \u001b[0mrs\u001b[0m\u001b[1;33m=\u001b[0m\u001b[0mrho_a\u001b[0m\u001b[1;33m,\u001b[0m \u001b[0mfiberL\u001b[0m\u001b[1;33m=\u001b[0m\u001b[0mfiberL\u001b[0m\u001b[1;33m,\u001b[0m \u001b[0md_ratio\u001b[0m\u001b[1;33m=\u001b[0m\u001b[0md_ratio\u001b[0m\u001b[1;33m,\u001b[0m \u001b[0mmaxNodeL\u001b[0m\u001b[1;33m=\u001b[0m\u001b[0mmax_nodeL\u001b[0m\u001b[1;33m)\u001b[0m\u001b[1;33m\u001b[0m\u001b[1;33m\u001b[0m\u001b[0m\n\u001b[0m\u001b[0;32m      3\u001b[0m \u001b[0mlogger\u001b[0m\u001b[1;33m.\u001b[0m\u001b[0minfo\u001b[0m\u001b[1;33m(\u001b[0m\u001b[1;34mf'Running titration for {si_format(pp.tstim)}s pulse'\u001b[0m\u001b[1;33m)\u001b[0m\u001b[1;33m\u001b[0m\u001b[1;33m\u001b[0m\u001b[0m\n\u001b[0;32m      4\u001b[0m \u001b[0mIthr\u001b[0m \u001b[1;33m=\u001b[0m \u001b[0mfiber\u001b[0m\u001b[1;33m.\u001b[0m\u001b[0mtitrate\u001b[0m\u001b[1;33m(\u001b[0m\u001b[0mpsource\u001b[0m\u001b[1;33m,\u001b[0m \u001b[0mpp\u001b[0m\u001b[1;33m)\u001b[0m  \u001b[1;31m# m/s\u001b[0m\u001b[1;33m\u001b[0m\u001b[1;33m\u001b[0m\u001b[0m\n\u001b[0;32m      5\u001b[0m \u001b[0mdata\u001b[0m\u001b[1;33m,\u001b[0m \u001b[0mmeta\u001b[0m \u001b[1;33m=\u001b[0m \u001b[0mfiber\u001b[0m\u001b[1;33m.\u001b[0m\u001b[0msimulate\u001b[0m\u001b[1;33m(\u001b[0m\u001b[0mpsource\u001b[0m\u001b[1;33m,\u001b[0m \u001b[1;36m1.2\u001b[0m\u001b[1;33m*\u001b[0m\u001b[0mIthr\u001b[0m\u001b[1;33m,\u001b[0m \u001b[0mtstim\u001b[0m\u001b[1;33m,\u001b[0m \u001b[0mtoffset\u001b[0m\u001b[1;33m,\u001b[0m \u001b[0mPRF\u001b[0m\u001b[1;33m,\u001b[0m \u001b[0mDC\u001b[0m\u001b[1;33m)\u001b[0m\u001b[1;33m\u001b[0m\u001b[1;33m\u001b[0m\u001b[0m\n",
      "\u001b[1;32mc:\\users\\lemaire\\documents\\repositories\\exsonic\\ExSONIC\\core\\senn.py\u001b[0m in \u001b[0;36munmyelinatedFiber\u001b[1;34m(fiber_class, pneuron, fiberD, rs, fiberL, maxNodeL, **kwargs)\u001b[0m\n\u001b[0;32m    619\u001b[0m \u001b[1;33m\u001b[0m\u001b[0m\n\u001b[0;32m    620\u001b[0m     \u001b[1;31m# Compute number of nodes (ensuring odd number) and node length from fiber length\u001b[0m\u001b[1;33m\u001b[0m\u001b[1;33m\u001b[0m\u001b[1;33m\u001b[0m\u001b[0m\n\u001b[1;32m--> 621\u001b[1;33m     \u001b[0mnnodes\u001b[0m \u001b[1;33m=\u001b[0m \u001b[0mint\u001b[0m\u001b[1;33m(\u001b[0m\u001b[0mnp\u001b[0m\u001b[1;33m.\u001b[0m\u001b[0mceil\u001b[0m\u001b[1;33m(\u001b[0m\u001b[0mfiberL\u001b[0m \u001b[1;33m/\u001b[0m \u001b[0mmaxNodeL\u001b[0m\u001b[1;33m)\u001b[0m\u001b[1;33m)\u001b[0m\u001b[1;33m\u001b[0m\u001b[1;33m\u001b[0m\u001b[0m\n\u001b[0m\u001b[0;32m    622\u001b[0m     \u001b[1;32mif\u001b[0m \u001b[0mnnodes\u001b[0m \u001b[1;33m%\u001b[0m \u001b[1;36m2\u001b[0m \u001b[1;33m==\u001b[0m \u001b[1;36m0\u001b[0m\u001b[1;33m:\u001b[0m\u001b[1;33m\u001b[0m\u001b[1;33m\u001b[0m\u001b[0m\n\u001b[0;32m    623\u001b[0m         \u001b[0mnnodes\u001b[0m \u001b[1;33m+=\u001b[0m \u001b[1;36m1\u001b[0m\u001b[1;33m\u001b[0m\u001b[1;33m\u001b[0m\u001b[0m\n",
      "\u001b[1;31mValueError\u001b[0m: cannot convert float NaN to integer"
     ]
    }
   ],
   "source": [
    "min_nnodes = 101\n",
    "fiber = unmyelinatedFiber(IextraFiber, pneuron, fiberD, rs=rho_a, fiberL=fiberL, d_ratio=d_ratio, maxNodeL=max_nodeL)\n",
    "logger.info(f'Running titration for {si_format(pp.tstim)}s pulse')\n",
    "Ithr = fiber.titrate(psource, pp)  # m/s\n",
    "data, meta = fiber.simulate(psource, 1.2*Ithr, tstim, toffset, PRF, DC)"
   ]
  },
  {
   "cell_type": "code",
   "execution_count": 6,
   "metadata": {},
   "outputs": [
    {
     "ename": "NameError",
     "evalue": "name 'data' is not defined",
     "output_type": "error",
     "traceback": [
      "\u001b[1;31m---------------------------------------------------------------------------\u001b[0m",
      "\u001b[1;31mNameError\u001b[0m                                 Traceback (most recent call last)",
      "\u001b[1;32m<ipython-input-6-9c5354df4409>\u001b[0m in \u001b[0;36m<module>\u001b[1;34m\u001b[0m\n\u001b[0;32m      1\u001b[0m \u001b[0mtrange\u001b[0m \u001b[1;33m=\u001b[0m \u001b[1;33m(\u001b[0m\u001b[1;33m-\u001b[0m\u001b[1;36m0.5e-3\u001b[0m\u001b[1;33m,\u001b[0m \u001b[1;36m10e-3\u001b[0m\u001b[1;33m)\u001b[0m\u001b[1;33m\u001b[0m\u001b[1;33m\u001b[0m\u001b[0m\n\u001b[1;32m----> 2\u001b[1;33m \u001b[0mfig1\u001b[0m \u001b[1;33m=\u001b[0m \u001b[0mSectionCompTimeSeries\u001b[0m\u001b[1;33m(\u001b[0m\u001b[1;33m[\u001b[0m\u001b[1;33m(\u001b[0m\u001b[0mdata\u001b[0m\u001b[1;33m,\u001b[0m \u001b[0mmeta\u001b[0m\u001b[1;33m)\u001b[0m\u001b[1;33m]\u001b[0m\u001b[1;33m,\u001b[0m \u001b[1;34m'Qm'\u001b[0m\u001b[1;33m,\u001b[0m \u001b[0mfiber\u001b[0m\u001b[1;33m.\u001b[0m\u001b[0mids\u001b[0m\u001b[1;33m[\u001b[0m\u001b[1;33m:\u001b[0m\u001b[1;33m:\u001b[0m\u001b[1;36m10\u001b[0m\u001b[1;33m]\u001b[0m\u001b[1;33m)\u001b[0m\u001b[1;33m.\u001b[0m\u001b[0mrender\u001b[0m\u001b[1;33m(\u001b[0m\u001b[0mtrange\u001b[0m\u001b[1;33m=\u001b[0m\u001b[0mtrange\u001b[0m\u001b[1;33m)\u001b[0m\u001b[1;33m\u001b[0m\u001b[1;33m\u001b[0m\u001b[0m\n\u001b[0m\u001b[0;32m      3\u001b[0m \u001b[0mfig2\u001b[0m \u001b[1;33m=\u001b[0m \u001b[0mSectionCompTimeSeries\u001b[0m\u001b[1;33m(\u001b[0m\u001b[1;33m[\u001b[0m\u001b[1;33m(\u001b[0m\u001b[0mdata\u001b[0m\u001b[1;33m,\u001b[0m \u001b[0mmeta\u001b[0m\u001b[1;33m)\u001b[0m\u001b[1;33m]\u001b[0m\u001b[1;33m,\u001b[0m \u001b[1;34m'Vm'\u001b[0m\u001b[1;33m,\u001b[0m \u001b[0mfiber\u001b[0m\u001b[1;33m.\u001b[0m\u001b[0mids\u001b[0m\u001b[1;33m[\u001b[0m\u001b[1;33m:\u001b[0m\u001b[1;33m:\u001b[0m\u001b[1;36m10\u001b[0m\u001b[1;33m]\u001b[0m\u001b[1;33m)\u001b[0m\u001b[1;33m.\u001b[0m\u001b[0mrender\u001b[0m\u001b[1;33m(\u001b[0m\u001b[0mtrange\u001b[0m\u001b[1;33m=\u001b[0m\u001b[0mtrange\u001b[0m\u001b[1;33m)\u001b[0m\u001b[1;33m\u001b[0m\u001b[1;33m\u001b[0m\u001b[0m\n",
      "\u001b[1;31mNameError\u001b[0m: name 'data' is not defined"
     ]
    }
   ],
   "source": [
    "trange = (-0.5e-3, 10e-3)\n",
    "fig1 = SectionCompTimeSeries([(data, meta)], 'Qm', fiber.ids[::10]).render(trange=trange)\n",
    "fig2 = SectionCompTimeSeries([(data, meta)], 'Vm', fiber.ids[::10]).render(trange=trange)"
   ]
  },
  {
   "cell_type": "code",
   "execution_count": 7,
   "metadata": {},
   "outputs": [
    {
     "ename": "NameError",
     "evalue": "name 'fiber' is not defined",
     "output_type": "error",
     "traceback": [
      "\u001b[1;31m---------------------------------------------------------------------------\u001b[0m",
      "\u001b[1;31mNameError\u001b[0m                                 Traceback (most recent call last)",
      "\u001b[1;32m<ipython-input-7-8d1ef3a48d9c>\u001b[0m in \u001b[0;36m<module>\u001b[1;34m\u001b[0m\n\u001b[1;32m----> 1\u001b[1;33m \u001b[0mcv\u001b[0m \u001b[1;33m=\u001b[0m \u001b[0mfiber\u001b[0m\u001b[1;33m.\u001b[0m\u001b[0mgetConductionVelocity\u001b[0m\u001b[1;33m(\u001b[0m\u001b[0mdata\u001b[0m\u001b[1;33m)\u001b[0m\u001b[1;33m\u001b[0m\u001b[1;33m\u001b[0m\u001b[0m\n\u001b[0m\u001b[0;32m      2\u001b[0m \u001b[0mprint\u001b[0m\u001b[1;33m(\u001b[0m\u001b[1;34mf'cv = {cv:.2f} m/s'\u001b[0m\u001b[1;33m)\u001b[0m\u001b[1;33m\u001b[0m\u001b[1;33m\u001b[0m\u001b[0m\n",
      "\u001b[1;31mNameError\u001b[0m: name 'fiber' is not defined"
     ]
    }
   ],
   "source": [
    "cv = fiber.getConductionVelocity(data)\n",
    "print(f'cv = {cv:.2f} m/s')"
   ]
  },
  {
   "cell_type": "markdown",
   "metadata": {},
   "source": [
    "As we can see, the behaviour of unmyelinated SENN neuron fiber is in a good correspondence to FH neurons in myelinated case. The form of the action potentials is the same as described in literature. The conduction velocity is approximately 10 times less than for myelinated case (Neuroscience, Dale Purves et al.). However, it is not the same as in Sundt et al. 2015 paper (0.28 - 0.54 m/s) as the equations governing the membrane processes are different for FH neuron. <br>\n",
    "It is worth noting that conduction velocity value is in range for mammalian neurons with non-myelinated fibers (group IV neurons): from 0.71 to 1.76 m/s based on the results in Hoheisel U. and Mense S. 1986."
   ]
  },
  {
   "cell_type": "markdown",
   "metadata": {},
   "source": [
    "## Strength-duration curve\n",
    "Let's compute the threshold injecting current required to excite the fiber, for various stimulus durations:"
   ]
  },
  {
   "cell_type": "code",
   "execution_count": 8,
   "metadata": {},
   "outputs": [
    {
     "ename": "NameError",
     "evalue": "name 'fiber' is not defined",
     "output_type": "error",
     "traceback": [
      "\u001b[1;31m---------------------------------------------------------------------------\u001b[0m",
      "\u001b[1;31mNameError\u001b[0m                                 Traceback (most recent call last)",
      "\u001b[1;32m<ipython-input-8-480f473d6d53>\u001b[0m in \u001b[0;36m<module>\u001b[1;34m\u001b[0m\n\u001b[0;32m      1\u001b[0m \u001b[1;31m# Strength-duration curve\u001b[0m\u001b[1;33m\u001b[0m\u001b[1;33m\u001b[0m\u001b[1;33m\u001b[0m\u001b[0m\n\u001b[1;32m----> 2\u001b[1;33m \u001b[0mfiber\u001b[0m\u001b[1;33m.\u001b[0m\u001b[0mreset\u001b[0m\u001b[1;33m(\u001b[0m\u001b[1;33m)\u001b[0m\u001b[1;33m\u001b[0m\u001b[1;33m\u001b[0m\u001b[0m\n\u001b[0m\u001b[0;32m      3\u001b[0m \u001b[0mdurations\u001b[0m \u001b[1;33m=\u001b[0m \u001b[0mnp\u001b[0m\u001b[1;33m.\u001b[0m\u001b[0marray\u001b[0m\u001b[1;33m(\u001b[0m\u001b[1;33m[\u001b[0m\u001b[1;36m10\u001b[0m\u001b[1;33m,\u001b[0m \u001b[1;36m50\u001b[0m\u001b[1;33m,\u001b[0m \u001b[1;36m500\u001b[0m\u001b[1;33m,\u001b[0m \u001b[1;36m1000\u001b[0m\u001b[1;33m,\u001b[0m \u001b[1;36m1250\u001b[0m\u001b[1;33m,\u001b[0m \u001b[1;36m1750\u001b[0m\u001b[1;33m,\u001b[0m \u001b[1;36m2000\u001b[0m\u001b[1;33m,\u001b[0m \u001b[1;36m2250\u001b[0m\u001b[1;33m,\u001b[0m \u001b[1;36m2500\u001b[0m\u001b[1;33m,\u001b[0m \u001b[1;36m5000\u001b[0m\u001b[1;33m,\u001b[0m \u001b[1;36m6000\u001b[0m\u001b[1;33m,\u001b[0m \u001b[1;36m7000\u001b[0m\u001b[1;33m,\u001b[0m \u001b[1;36m8000\u001b[0m\u001b[1;33m,\u001b[0m \u001b[1;36m9000\u001b[0m\u001b[1;33m,\u001b[0m \u001b[1;36m10000\u001b[0m\u001b[1;33m,\u001b[0m \u001b[1;36m15000\u001b[0m\u001b[1;33m]\u001b[0m\u001b[1;33m,\u001b[0m \u001b[0mdtype\u001b[0m\u001b[1;33m=\u001b[0m\u001b[0mfloat\u001b[0m\u001b[1;33m)\u001b[0m \u001b[1;33m*\u001b[0m \u001b[1;36m1e-6\u001b[0m  \u001b[1;31m# s\u001b[0m\u001b[1;33m\u001b[0m\u001b[1;33m\u001b[0m\u001b[0m\n\u001b[0;32m      4\u001b[0m \u001b[0mIthrs\u001b[0m \u001b[1;33m=\u001b[0m \u001b[0mnp\u001b[0m\u001b[1;33m.\u001b[0m\u001b[0marray\u001b[0m\u001b[1;33m(\u001b[0m\u001b[1;33m[\u001b[0m\u001b[0mfiber\u001b[0m\u001b[1;33m.\u001b[0m\u001b[0mtitrate\u001b[0m\u001b[1;33m(\u001b[0m\u001b[0mpsource\u001b[0m\u001b[1;33m,\u001b[0m \u001b[0mPulsedProtocol\u001b[0m\u001b[1;33m(\u001b[0m\u001b[0mx\u001b[0m\u001b[1;33m,\u001b[0m \u001b[0mtoffset\u001b[0m\u001b[1;33m)\u001b[0m\u001b[1;33m)\u001b[0m \u001b[1;32mfor\u001b[0m \u001b[0mx\u001b[0m \u001b[1;32min\u001b[0m \u001b[0mdurations\u001b[0m\u001b[1;33m]\u001b[0m\u001b[1;33m)\u001b[0m\u001b[1;33m\u001b[0m\u001b[1;33m\u001b[0m\u001b[0m\n\u001b[0;32m      5\u001b[0m fig = strengthDurationCurve(\n",
      "\u001b[1;31mNameError\u001b[0m: name 'fiber' is not defined"
     ]
    }
   ],
   "source": [
    "fiber.reset()\n",
    "durations = np.array([10, 50, 500, 1000, 1250, 1750, 2000, 2250, 2500, 5000, 6000, 7000, 8000, 9000, 10000, 15000], dtype=float) * 1e-6  # s\n",
    "Ithrs = np.array([fiber.titrate(psource, PulsedProtocol(x, toffset)) for x in durations])\n",
    "fig = strengthDurationCurve(\n",
    "    fiber, durations, {'sim': np.array(Ithrs)}, scale='log', plot_chr=False,\n",
    "    yname='current', yfactor=1e0, yunit='A')"
   ]
  },
  {
   "cell_type": "code",
   "execution_count": 31,
   "metadata": {},
   "outputs": [
    {
     "name": "stdout",
     "output_type": "stream",
     "text": [
      "rheobase = 0.0009 A\n",
      "chronaxie = 354.76 us\n"
     ]
    }
   ],
   "source": [
    "rheobase = np.min(np.abs(Ithrs)) \n",
    "print(f'rheobase = {np.min(np.abs(Ithrs)):.4f}A')\n",
    "print(f'chronaxie = {np.interp(2 * rheobase, np.abs(Ithrs)[::-1], durations[::-1]) * 1e6:.2f}us')"
   ]
  },
  {
   "cell_type": "markdown",
   "metadata": {},
   "source": [
    "As can be seen from the graph the treshold current required to excite the fiber falls and converges with the stimulus duration. The chronaxie is calculated and shown."
   ]
  },
  {
   "cell_type": "markdown",
   "metadata": {},
   "source": [
    "## Conclusions\n",
    "- The unmyelinated neuron fiber model is created based on the idea of 0 internodal distance.\n",
    "- The maximal node length needed for the simulations is 162.14 ${\\mu}m$ for a 1% relative error case.\n",
    "- Unmyelinated neuron fiber is simulated for the found minimal number of nodes (approximately 100 nodes).\n",
    "- Conduction velocity is approximately 10 times less than for myelinated fiber.\n",
    "- The strength-duration curve obtained from the simulation data makes empirical sense.\n",
    "\n",
    "## TO DO:\n",
    "- It is needed to run the simulation for the custom connection scheme to validate the obtained results."
   ]
  },
  {
   "cell_type": "markdown",
   "metadata": {},
   "source": [
    "## References"
   ]
  },
  {
   "cell_type": "markdown",
   "metadata": {},
   "source": [
    " - Dale Purves, George J Augustine, David Fitzpatrick, Lawrence C Katz, Anthony-Samuel LaMantia, James O McNamara, and S Mark Williams, \"Neuroscience\", 2nd Edition, Sunderland (MA): Sinauer Associates, 2001. https://www.ncbi.nlm.nih.gov/books/NBK10921/\n",
    " - Sundt D, Gamper N, Jaffe DB., \"Spike propagation through the dorsal root ganglia in an unmyelinated sensory neuron: a modeling study\", J Neurophysiol 114: 3140–3153, 2015. https://www.ncbi.nlm.nih.gov/pubmed/26334005\n",
    " - Hoheisel U, Mense S. Non-myelinated afferent fibres do not originate exclusively from the smallest dorsal root ganglion cells in the cat. Neurosci Lett 72: 153–157, 1986. https://www.sciencedirect.com/science/article/pii/0304394086900716?via%3Dihub"
   ]
  }
 ],
 "metadata": {
  "kernelspec": {
   "display_name": "Python 3",
   "language": "python",
   "name": "python3"
  },
  "language_info": {
   "codemirror_mode": {
    "name": "ipython",
    "version": 3
   },
   "file_extension": ".py",
   "mimetype": "text/x-python",
   "name": "python",
   "nbconvert_exporter": "python",
   "pygments_lexer": "ipython3",
   "version": "3.7.3"
  }
 },
 "nbformat": 4,
 "nbformat_minor": 4
}
