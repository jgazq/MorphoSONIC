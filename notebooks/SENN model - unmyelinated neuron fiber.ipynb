{
 "cells": [
  {
   "cell_type": "markdown",
   "metadata": {},
   "source": [
    "# Unmyelinated neuron fiber model"
   ]
  },
  {
   "cell_type": "markdown",
   "metadata": {},
   "source": [
    "## Objectives\n",
    "- Create unmyelinated neuron fiber model based on myelinated case.\n",
    "- Check simulated treshold current convergence dependence on the node length"
   ]
  },
  {
   "cell_type": "markdown",
   "metadata": {},
   "source": [
    "## Rationale\n",
    "To move from the myelinated case to unmyelinated case the main assumption we made in the model is that now the internodal length will be equal to 0. That is how we make sure that there is no myelin sheat included in the model. For a given fiber length there might be a different number of nodes. This will affect the treshold current needed to elicit action potential. If the node length is too big, the action potential does not propagate. If the node length is too small, the computation time of the simulations rises drastically. That is why it is needed to find a node length treshold. For these purposes, the node length when the treshold current value converges is found. Thus, twith the following increase in the number of nodes the stimulation results will be the same."
   ]
  },
  {
   "cell_type": "markdown",
   "metadata": {},
   "source": [
    "## Imports"
   ]
  },
  {
   "cell_type": "code",
   "execution_count": 1,
   "metadata": {},
   "outputs": [],
   "source": [
    "import os\n",
    "import numpy as np\n",
    "import matplotlib.pyplot as plt\n",
    "\n",
    "from PySONIC.neurons import getPointNeuron\n",
    "from PySONIC.utils import logger, si_format\n",
    "from ExSONIC.core import IinjUnmyelinatedSennFiber, IntracellularCurrent\n",
    "from ExSONIC.test import TestFiber"
   ]
  },
  {
   "cell_type": "markdown",
   "metadata": {},
   "source": [
    "Let's define the model parameters:"
   ]
  },
  {
   "cell_type": "code",
   "execution_count": 2,
   "metadata": {},
   "outputs": [],
   "source": [
    "# Fiber model parameters\n",
    "pneuron = getPointNeuron('FH')       # mammalian fiber membrane equations\n",
    "fiberD = 10e-6                       # fiber diameter (m)\n",
    "rho_a = 54.7                         # axoplasm resistivity (Ohm.cm)\n",
    "d_ratio = 0.6                        # axon / fiber diameter ratio\n",
    "fiberL = 1e-2                       # fiber length (m) \n",
    "\n",
    "# Intracellular stimulation parameters\n",
    "tstim = 10e-6   # s\n",
    "toffset = 3e-2  # s\n",
    "PRF = 100.      # Hz\n",
    "DC = 1.         # -"
   ]
  },
  {
   "cell_type": "markdown",
   "metadata": {},
   "source": [
    "Create an intracellular current (stimulation of the first node):"
   ]
  },
  {
   "cell_type": "code",
   "execution_count": 3,
   "metadata": {},
   "outputs": [],
   "source": [
    "psource = IntracellularCurrent(0, mode='anode')"
   ]
  },
  {
   "cell_type": "markdown",
   "metadata": {},
   "source": [
    "Run the convergence detection function:"
   ]
  },
  {
   "cell_type": "code",
   "execution_count": 4,
   "metadata": {},
   "outputs": [],
   "source": [
    "#Supress default INFO logging\n",
    "import logging, sys\n",
    "logging.disable(sys.maxsize)"
   ]
  },
  {
   "cell_type": "code",
   "execution_count": 5,
   "metadata": {},
   "outputs": [],
   "source": [
    "os.chdir('../tests')\n",
    "from test_senn_unmyelinated import convergence"
   ]
  },
  {
   "cell_type": "code",
   "execution_count": 6,
   "metadata": {},
   "outputs": [],
   "source": [
    "nnodes = np.logspace(0, 4, 100)\n",
    "nnodes = np.asarray(np.ceil(nnodes) // 2 * 2 + 1, dtype=int)\n",
    "Ithrs = convergence(pneuron, fiberD, rho_a, d_ratio, fiberL, tstim, toffset, PRF, DC, psource, nnodes)"
   ]
  },
  {
   "cell_type": "code",
   "execution_count": 7,
   "metadata": {},
   "outputs": [
    {
     "data": {
      "text/plain": [
       "<matplotlib.legend.Legend at 0x1edae2d94e0>"
      ]
     },
     "execution_count": 7,
     "metadata": {},
     "output_type": "execute_result"
    },
    {
     "data": {
      "image/png": "[encoded data removed]",
      "text/plain": [
       "<Figure size 432x288 with 1 Axes>"
      ]
     },
     "metadata": {
      "needs_background": "light"
     },
     "output_type": "display_data"
    }
   ],
   "source": [
    "nodeL = fiberL / nnodes\n",
    "Ithr_ref = Ithrs[-1]\n",
    "rel_errors = (Ithrs - Ithr_ref) / Ithr_ref\n",
    "max_rel_error = 0.01\n",
    "max_nodeL = np.interp(max_rel_error, rel_errors[::-1], nodeL[::-1], left=np.nan, right=np.nan)\n",
    "\n",
    "#PLotting\n",
    "fig = plt.plot(nodeL, rel_errors, label='convergence')\n",
    "plt.xlabel('node length')\n",
    "plt.ylabel('relative error')\n",
    "plt.xscale('log')\n",
    "plt.yscale('log')\n",
    "plt.axhline(max_rel_error, label='error threshold', color='k', linestyle='--')\n",
    "plt.axvline(max_nodeL, label=f'max node length ({max_nodeL * 1e6:.2f} um)', color='k')\n",
    "plt.legend()"
   ]
  },
  {
   "cell_type": "markdown",
   "metadata": {},
   "source": [
    "The treshold current convergence is shown on the graph above. The relative error (the difference of the treshold current value to the convergence value in percent) rises with the node length. This behaviour is expected as with the rise of the node length it is harder for action potential to propagate. The maximum relative error used here is 1% (shown as a dashed line in the graph). The maximal node length is 16.15 ${\\mu}m$, which leads to the aprroximately 1 min computation time per simulation. "
   ]
  },
  {
   "cell_type": "markdown",
   "metadata": {},
   "source": [
    "## Conclusions\n",
    "- The unmyelinated neuron fiber model is created.\n",
    "- The maximal node length needed for the simulations is found."
   ]
  }
 ],
 "metadata": {
  "kernelspec": {
   "display_name": "Python 3",
   "language": "python",
   "name": "python3"
  },
  "language_info": {
   "codemirror_mode": {
    "name": "ipython",
    "version": 3
   },
   "file_extension": ".py",
   "mimetype": "text/x-python",
   "name": "python",
   "nbconvert_exporter": "python",
   "pygments_lexer": "ipython3",
   "version": "3.6.8"
  }
 },
 "nbformat": 4,
 "nbformat_minor": 2
}
