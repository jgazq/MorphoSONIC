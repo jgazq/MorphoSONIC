{
 "cells": [
  {
   "cell_type": "markdown",
   "metadata": {},
   "source": [
    "# Extended SONIC model - Hybrid nodes"
   ]
  },
  {
   "cell_type": "markdown",
   "metadata": {},
   "source": [
    "### Goal\n",
    "\n",
    "Implement a \"hybrid\" active node consisting of a morphological section partially covered by sonophores (*of varying sizes?*).\n",
    "\n",
    "### Proposition\n",
    "Compute node membrane current as a weighted average of active and passive HH currents:\n",
    "\n",
    "$i_{ion} = f_s \\cdot g_{ion, s} (\\frac{Q_m}{C_{m, s}} - E_{ion}) + (1 - f_s) \\cdot g_{ion, c} (\\frac{Q_m}{C_{m, c}} - E_{ion})$\n"
   ]
  },
  {
   "cell_type": "markdown",
   "metadata": {},
   "source": [
    "### Imports"
   ]
  },
  {
   "cell_type": "code",
   "execution_count": 3,
   "metadata": {},
   "outputs": [],
   "source": [
    "import sys\n",
    "import logging\n",
    "import numpy as np\n",
    "import matplotlib.pyplot as plt\n",
    "\n",
    "from PySONIC.utils import logger, si_format\n",
    "from PySONIC.neurons import CorticalRS\n",
    "from ExSONIC._1D import SeriesConnector, runPlotAStim\n",
    "\n",
    "logger.setLevel(logging.DEBUG)"
   ]
  },
  {
   "cell_type": "markdown",
   "metadata": {},
   "source": [
    "### Parameters"
   ]
  },
  {
   "cell_type": "code",
   "execution_count": 29,
   "metadata": {},
   "outputs": [],
   "source": [
    "# Model parameters\n",
    "neuron = CorticalRS()\n",
    "a = 32e-9  # sonophore diameter (m)\n",
    "nnodes = 4\n",
    "Ra = 1e2  # default order of magnitude found in litterature (Ohm.cm)\n",
    "d = 1e-6  # order of magnitude of axon node diameter (m)\n",
    "L = 1e-5  # between order of magnitude of axon node length (1 um) and internode length (100um - 1 mm)\n",
    "\n",
    "# Stimulation parameters\n",
    "Fdrive = 500e3  # Hz\n",
    "Adrive = 50e3  # Pa\n",
    "tstim = 150e-3  # s\n",
    "toffset = 100e-3  # s\n",
    "PRF = 100.  # Hz\n",
    "DC = 1.\n",
    "\n",
    "connector = SeriesConnector(vref='Vmeff_{}'.format(neuron.name))"
   ]
  }
 ],
 "metadata": {
  "kernelspec": {
   "display_name": "Python 3",
   "language": "python",
   "name": "python3"
  },
  "language_info": {
   "codemirror_mode": {
    "name": "ipython",
    "version": 3
   },
   "file_extension": ".py",
   "mimetype": "text/x-python",
   "name": "python",
   "nbconvert_exporter": "python",
   "pygments_lexer": "ipython3",
   "version": "3.6.4"
  }
 },
 "nbformat": 4,
 "nbformat_minor": 2
}
