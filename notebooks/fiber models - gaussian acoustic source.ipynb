{
 "cells": [
  {
   "cell_type": "markdown",
   "metadata": {},
   "source": [
    "# Fiber models - comparison of myelinated and unmyelinated fiber responses to gaussian acoustic source"
   ]
  },
  {
   "cell_type": "markdown",
   "metadata": {},
   "source": [
    "### Imports"
   ]
  },
  {
   "cell_type": "code",
   "execution_count": null,
   "metadata": {},
   "outputs": [],
   "source": [
    "import numpy as np\n",
    "import matplotlib.pyplot as plt\n",
    "import logging\n",
    "\n",
    "from PySONIC.utils import logger, si_format\n",
    "from ExSONIC.core import SonicFiber, myelinatedFiberReilly, unmyelinatedFiberSundt, strengthDuration\n",
    "from ExSONIC.plt import strengthDurationCurve\n",
    "from ExSONIC.plot_SDcurves import plotSDcurves\n",
    "\n",
    "#Folder used to store the strength duration data\n",
    "outdir='strengthDurationData'\n",
    "logger.setLevel(logging.WARNING)"
   ]
  }
 ],
 "metadata": {
  "kernelspec": {
   "display_name": "Python 3",
   "language": "python",
   "name": "python3"
  },
  "language_info": {
   "codemirror_mode": {
    "name": "ipython",
    "version": 3
   },
   "file_extension": ".py",
   "mimetype": "text/x-python",
   "name": "python",
   "nbconvert_exporter": "python",
   "pygments_lexer": "ipython3",
   "version": "3.7.4"
  }
 },
 "nbformat": 4,
 "nbformat_minor": 2
}
