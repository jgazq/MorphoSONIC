{
 "cells": [
  {
   "cell_type": "markdown",
   "metadata": {},
   "source": [
    "# Fiber models - comparison of excitability upon extracellular electrical stimulation\n",
    "\n",
    "- SD curve myelinated for different diameters at default distance\n",
    "- SD curve unmyelinated for different diameters at default distance\n",
    "- comparison SD curves myelinated vs. unmyelinated for few characteristic diameters\n",
    "- comparison SD curves myelinated vs. unmyelinated for few characteristic distances\n",
    "- conclusion about influence of myelination, fiber diameter and source distance on excitability "
   ]
  },
  {
   "cell_type": "code",
   "execution_count": null,
   "metadata": {},
   "outputs": [],
   "source": []
  }
 ],
 "metadata": {
  "kernelspec": {
   "display_name": "Python 3",
   "language": "python",
   "name": "python3"
  },
  "language_info": {
   "codemirror_mode": {
    "name": "ipython",
    "version": 3
   },
   "file_extension": ".py",
   "mimetype": "text/x-python",
   "name": "python",
   "nbconvert_exporter": "python",
   "pygments_lexer": "ipython3",
   "version": "3.7.3"
  }
 },
 "nbformat": 4,
 "nbformat_minor": 2
}
