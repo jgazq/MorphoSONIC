{
 "cells": [
  {
   "cell_type": "markdown",
   "metadata": {},
   "source": [
    "# Fiber models - comparison of excitability upon intracellular electrical stimulation\n",
    "\n",
    "- SD curve myelinated for different diameters\n",
    "- SD curve unmyelinated for different diameters\n",
    "- comparison SD curves myelinated vs. unmyelinated for few characteristic diameters\n",
    "- conclusion about influence of myelination and fiber diameter on excitability "
   ]
  },
  {
   "cell_type": "code",
   "execution_count": null,
   "metadata": {},
   "outputs": [],
   "source": []
  }
 ],
 "metadata": {
  "kernelspec": {
   "display_name": "Python 3",
   "language": "python",
   "name": "python3"
  },
  "language_info": {
   "codemirror_mode": {
    "name": "ipython",
    "version": 3
   },
   "file_extension": ".py",
   "mimetype": "text/x-python",
   "name": "python",
   "nbconvert_exporter": "python",
   "pygments_lexer": "ipython3",
   "version": "3.7.3"
  }
 },
 "nbformat": 4,
 "nbformat_minor": 2
}
