{
 "cells": [
  {
   "cell_type": "markdown",
   "metadata": {},
   "source": [
    "## Imports"
   ]
  },
  {
   "cell_type": "code",
   "execution_count": 1,
   "metadata": {},
   "outputs": [],
   "source": [
    "import logging\n",
    "import matplotlib.pyplot as plt\n",
    "import numpy as np\n",
    "\n",
    "from PySONIC.core import PulsedProtocol\n",
    "from PySONIC.neurons import getPointNeuron\n",
    "from PySONIC.utils import logger, si_format\n",
    "from ExSONIC.core import IintraFiber, IextraFiber, SonicFiber, IntracellularCurrent, PlanarDiskTransducerSource, ExtracellularCurrent, unmyelinatedFiber, myelinatedFiberReilly, unmyelinatedFiberSundt\n",
    "from ExSONIC.plt import SectionCompTimeSeries, strengthDurationCurve, plotConvergenceResults\n",
    "\n",
    "logger.setLevel(logging.INFO)\n",
    "#%matplotlib notebook"
   ]
  },
  {
   "cell_type": "markdown",
   "metadata": {},
   "source": [
    "## Default parameters\n",
    "\n",
    "We use identical parameters as in the Sundt 2015 paper (0.8 um diameter, 5 mm long peripheral axon with fast Sodium, delayed-rectifier Potassium and leakage currents).\n",
    "\n",
    "The following parameters are fixed in the convergence studies. "
   ]
  },
  {
   "cell_type": "code",
   "execution_count": 2,
   "metadata": {},
   "outputs": [],
   "source": [
    "# Unmyelinated fiber model parameters\n",
    "pneuron = getPointNeuron('sundt')          # C-fiber membrane equations\n",
    "rs = 1e2                                   # axoplasm resistivity, from Sundt 2015 (Ohm.cm)\n",
    "fiberL = 5e-3                              # axon length (m)\n",
    "\n",
    "# Stimulation parameters\n",
    "tstim = 1e-4     # s\n",
    "toffset = 25e-3  # s\n",
    "pp = PulsedProtocol(tstim, toffset)"
   ]
  },
  {
   "cell_type": "code",
   "execution_count": 34,
   "metadata": {
    "scrolled": true
   },
   "outputs": [
    {
     "name": "stderr",
     "output_type": "stream",
     "text": [
      " 07/01/2020 16:52:40: IextraFiber(FH neuron, 21 nodes, rs = 110 Ohm.cm, nodeD = 14.0 um, nodeL = 2.5 um, interD = 14.0 um, interL = 2.0 mm): simulation @ ExtracellularCurrent(x = (20.0,1.0)mm), I = -1.32 mA, 1.0 ms stim, 20.0 ms offset\n",
      " 07/01/2020 16:52:40: IextraFiber(FH neuron, 21 nodes, rs = 110 Ohm.cm, nodeD = 14.0 um, nodeL = 2.5 um, interD = 14.0 um, interL = 2.0 mm): simulation @ ExtracellularCurrent(x = (20.0,1.0)mm), I = -2.65 mA, 1.0 ms stim, 20.0 ms offset\n",
      " 07/01/2020 16:52:40: IextraFiber(FH neuron, 21 nodes, rs = 110 Ohm.cm, nodeD = 14.0 um, nodeL = 2.5 um, interD = 14.0 um, interL = 2.0 mm): simulation @ ExtracellularCurrent(x = (20.0,1.0)mm), I = -5.30 mA, 1.0 ms stim, 20.0 ms offset\n",
      " 07/01/2020 16:52:40: IextraFiber(FH neuron, 21 nodes, rs = 110 Ohm.cm, nodeD = 14.0 um, nodeL = 2.5 um, interD = 14.0 um, interL = 2.0 mm): simulation @ ExtracellularCurrent(x = (20.0,1.0)mm), I = -10.60 mA, 1.0 ms stim, 20.0 ms offset\n",
      " 07/01/2020 16:52:40: IextraFiber(FH neuron, 21 nodes, rs = 110 Ohm.cm, nodeD = 14.0 um, nodeL = 2.5 um, interD = 14.0 um, interL = 2.0 mm): simulation @ ExtracellularCurrent(x = (20.0,1.0)mm), I = -21.19 mA, 1.0 ms stim, 20.0 ms offset\n",
      " 07/01/2020 16:52:40: IextraFiber(FH neuron, 21 nodes, rs = 110 Ohm.cm, nodeD = 14.0 um, nodeL = 2.5 um, interD = 14.0 um, interL = 2.0 mm): simulation @ ExtracellularCurrent(x = (20.0,1.0)mm), I = -42.39 mA, 1.0 ms stim, 20.0 ms offset\n",
      " 07/01/2020 16:52:40: IextraFiber(FH neuron, 21 nodes, rs = 110 Ohm.cm, nodeD = 14.0 um, nodeL = 2.5 um, interD = 14.0 um, interL = 2.0 mm): simulation @ ExtracellularCurrent(x = (20.0,1.0)mm), I = -84.78 mA, 1.0 ms stim, 20.0 ms offset\n",
      " 07/01/2020 16:52:41: IextraFiber(FH neuron, 21 nodes, rs = 110 Ohm.cm, nodeD = 14.0 um, nodeL = 2.5 um, interD = 14.0 um, interL = 2.0 mm): simulation @ ExtracellularCurrent(x = (20.0,1.0)mm), I = -169.55 mA, 1.0 ms stim, 20.0 ms offset\n",
      " 07/01/2020 16:52:41: IextraFiber(FH neuron, 21 nodes, rs = 110 Ohm.cm, nodeD = 14.0 um, nodeL = 2.5 um, interD = 14.0 um, interL = 2.0 mm): simulation @ ExtracellularCurrent(x = (20.0,1.0)mm), I = -339.10 mA, 1.0 ms stim, 20.0 ms offset\n",
      " 07/01/2020 16:52:41: IextraFiber(FH neuron, 21 nodes, rs = 110 Ohm.cm, nodeD = 14.0 um, nodeL = 2.5 um, interD = 14.0 um, interL = 2.0 mm): simulation @ ExtracellularCurrent(x = (20.0,1.0)mm), I = -678.20 mA, 1.0 ms stim, 20.0 ms offset\n",
      " 07/01/2020 16:52:41: No threshold found within the [4.19e-06 - 4.19e-01] interval\n"
     ]
    },
    {
     "name": "stdout",
     "output_type": "stream",
     "text": [
      "Excitation threshold: nan nA\n"
     ]
    },
    {
     "name": "stderr",
     "output_type": "stream",
     "text": [
      " 07/01/2020 16:52:41: IextraFiber(FH neuron, 21 nodes, rs = 110 Ohm.cm, nodeD = 14.0 um, nodeL = 2.5 um, interD = 14.0 um, interL = 2.0 mm): simulation @ ExtracellularCurrent(x = (20.0,1.0)mm), I = 10.00 A, 1.0 ms stim, 20.0 ms offset\n"
     ]
    }
   ],
   "source": [
    "fiberD = 20e-6  # (m)\n",
    "#fiberL = 5000e-6   \n",
    "tstim = 1e-4    # s  # duration of the stimulation in Sundt paper\n",
    "toffset = 20e-3  # s\n",
    "pp = PulsedProtocol(tstim, toffset)\n",
    "#fiber = unmyelinatedFiber(IintraFiber, pneuron, fiberD, rs, fiberL)\n",
    "fiber_class = IextraFiber\n",
    "fiber = myelinatedFiberReilly(fiber_class, fiberD)\n",
    "x = fiber.length()/2\n",
    "zdistance=0.4e-3\n",
    "psource = ExtracellularCurrent((x, zdistance), mode='anode')\n",
    "#logger.info(f'Running titration for {si_format(pp.tstim)}s pulse')\n",
    "logger.setLevel(logging.INFO)\n",
    "#Ithr = fiber.titrate(psource, pp)  # A\n",
    "I= 4e-3\n",
    "#print(f'Excitation threshold: {Ithr*1e9:.2f} nA')\n",
    "logger.setLevel(logging.INFO)\n",
    "data, meta = fiber.simulate(psource, I, pp)"
   ]
  },
  {
   "cell_type": "code",
   "execution_count": 6,
   "metadata": {
    "scrolled": true
   },
   "outputs": [
    {
     "name": "stderr",
     "output_type": "stream",
     "text": [
      " 25/01/2020 11:45:18: SonicFiber(sundt neuron, a = 64.0 nm, 229 nodes, rs = 100 Ohm.cm, nodeD = 20.0 um, nodeL = 21.8 um, interD = 20.0 um, interL = 0.0 m): simulation @ PlanarDiskTransducerSource(x = (0.0,0.0,0.1)mm), u = 242.31 um/s, 1.0 ms stim, 8.0 ms offset\n"
     ]
    },
    {
     "ename": "KeyboardInterrupt",
     "evalue": "",
     "output_type": "error",
     "traceback": [
      "\u001b[0;31m---------------------------------------------------------------------------\u001b[0m",
      "\u001b[0;31mKeyboardInterrupt\u001b[0m                         Traceback (most recent call last)",
      "\u001b[0;32m<ipython-input-6-1ea8387021df>\u001b[0m in \u001b[0;36m<module>\u001b[0;34m\u001b[0m\n\u001b[1;32m     11\u001b[0m \u001b[0mzdistance\u001b[0m \u001b[0;34m=\u001b[0m \u001b[0;36m1e-4\u001b[0m \u001b[0;34m+\u001b[0m \u001b[0;36m0.00534\u001b[0m \u001b[0;34m/\u001b[0m \u001b[0;36m4.5e6\u001b[0m \u001b[0;34m*\u001b[0m \u001b[0;34m(\u001b[0m\u001b[0mFdrive\u001b[0m \u001b[0;34m-\u001b[0m \u001b[0;36m5e5\u001b[0m\u001b[0;34m)\u001b[0m\u001b[0;34m\u001b[0m\u001b[0;34m\u001b[0m\u001b[0m\n\u001b[1;32m     12\u001b[0m \u001b[0mpsource\u001b[0m \u001b[0;34m=\u001b[0m \u001b[0mPlanarDiskTransducerSource\u001b[0m\u001b[0;34m(\u001b[0m\u001b[0;36m0\u001b[0m\u001b[0;34m,\u001b[0m \u001b[0;36m0\u001b[0m\u001b[0;34m,\u001b[0m \u001b[0mzdistance\u001b[0m\u001b[0;34m,\u001b[0m \u001b[0mFdrive\u001b[0m\u001b[0;34m)\u001b[0m\u001b[0;34m\u001b[0m\u001b[0;34m\u001b[0m\u001b[0m\n\u001b[0;32m---> 13\u001b[0;31m \u001b[0mAthr\u001b[0m \u001b[0;34m=\u001b[0m \u001b[0mfiber\u001b[0m\u001b[0;34m.\u001b[0m\u001b[0mtitrate\u001b[0m\u001b[0;34m(\u001b[0m\u001b[0mpsource\u001b[0m\u001b[0;34m,\u001b[0m \u001b[0mpp\u001b[0m\u001b[0;34m)\u001b[0m  \u001b[0;31m# A\u001b[0m\u001b[0;34m\u001b[0m\u001b[0;34m\u001b[0m\u001b[0m\n\u001b[0m\u001b[1;32m     14\u001b[0m \u001b[0mprint\u001b[0m\u001b[0;34m(\u001b[0m\u001b[0mAthr\u001b[0m\u001b[0;34m)\u001b[0m\u001b[0;34m\u001b[0m\u001b[0;34m\u001b[0m\u001b[0m\n\u001b[1;32m     15\u001b[0m \u001b[0mu\u001b[0m\u001b[0;34m=\u001b[0m \u001b[0mAthr\u001b[0m \u001b[0;34m/\u001b[0m \u001b[0mpsource\u001b[0m\u001b[0;34m.\u001b[0m\u001b[0mrelNormalAxisAmp\u001b[0m\u001b[0;34m(\u001b[0m\u001b[0mpsource\u001b[0m\u001b[0;34m.\u001b[0m\u001b[0mgetMinNodeDistance\u001b[0m\u001b[0;34m(\u001b[0m\u001b[0mfiber\u001b[0m\u001b[0;34m)\u001b[0m\u001b[0;34m)\u001b[0m\u001b[0;34m\u001b[0m\u001b[0;34m\u001b[0m\u001b[0m\n",
      "\u001b[0;32m~/Documents/MasterThesis/Code/exsonic/ExSONIC/core/senn.py\u001b[0m in \u001b[0;36mtitrate\u001b[0;34m(self, psource, pp)\u001b[0m\n\u001b[1;32m    646\u001b[0m         return psource.computeMaxNodeAmp(self, threshold(\n\u001b[1;32m    647\u001b[0m             \u001b[0;32mlambda\u001b[0m \u001b[0mx\u001b[0m\u001b[0;34m:\u001b[0m \u001b[0mself\u001b[0m\u001b[0;34m.\u001b[0m\u001b[0mtitrationFunc\u001b[0m\u001b[0;34m(\u001b[0m\u001b[0mpsource\u001b[0m\u001b[0;34m,\u001b[0m \u001b[0mx\u001b[0m\u001b[0;34m,\u001b[0m \u001b[0mpp\u001b[0m\u001b[0;34m)\u001b[0m\u001b[0;34m,\u001b[0m\u001b[0;34m\u001b[0m\u001b[0;34m\u001b[0m\u001b[0m\n\u001b[0;32m--> 648\u001b[0;31m             (Amin, Amax), eps_thr=A_conv_thr, rel_eps_thr=1e-2, precheck=True))\n\u001b[0m",
      "\u001b[0;32m~/Documents/MasterThesis/Code/pysonic/PySONIC/threshold.py\u001b[0m in \u001b[0;36mthreshold\u001b[0;34m(feval, xbounds, x0, eps_thr, rel_eps_thr, max_nit, precheck, fbound, output_history)\u001b[0m\n\u001b[1;32m     71\u001b[0m     \u001b[0mlb\u001b[0m\u001b[0;34m,\u001b[0m \u001b[0mub\u001b[0m \u001b[0;34m=\u001b[0m \u001b[0mxbounds\u001b[0m           \u001b[0;31m# lower and upper bound\u001b[0m\u001b[0;34m\u001b[0m\u001b[0;34m\u001b[0m\u001b[0m\n\u001b[1;32m     72\u001b[0m     \u001b[0mx\u001b[0m \u001b[0;34m=\u001b[0m \u001b[0;34m[\u001b[0m\u001b[0mx0\u001b[0m\u001b[0;34m]\u001b[0m                   \u001b[0;31m# history of evaluated values\u001b[0m\u001b[0;34m\u001b[0m\u001b[0;34m\u001b[0m\u001b[0m\n\u001b[0;32m---> 73\u001b[0;31m     \u001b[0mis_above\u001b[0m \u001b[0;34m=\u001b[0m \u001b[0;34m[\u001b[0m\u001b[0mfeval\u001b[0m\u001b[0;34m(\u001b[0m\u001b[0mx\u001b[0m\u001b[0;34m[\u001b[0m\u001b[0;34m-\u001b[0m\u001b[0;36m1\u001b[0m\u001b[0;34m]\u001b[0m\u001b[0;34m)\u001b[0m\u001b[0;34m]\u001b[0m  \u001b[0;31m# history of evaluation outcomes\u001b[0m\u001b[0;34m\u001b[0m\u001b[0;34m\u001b[0m\u001b[0m\n\u001b[0m\u001b[1;32m     74\u001b[0m \u001b[0;34m\u001b[0m\u001b[0m\n\u001b[1;32m     75\u001b[0m     \u001b[0;32mtry\u001b[0m\u001b[0;34m:\u001b[0m\u001b[0;34m\u001b[0m\u001b[0;34m\u001b[0m\u001b[0m\n",
      "\u001b[0;32m~/Documents/MasterThesis/Code/exsonic/ExSONIC/core/senn.py\u001b[0m in \u001b[0;36m<lambda>\u001b[0;34m(x)\u001b[0m\n\u001b[1;32m    645\u001b[0m         \u001b[0mA_conv_thr\u001b[0m \u001b[0;34m=\u001b[0m \u001b[0mnp\u001b[0m\u001b[0;34m.\u001b[0m\u001b[0mabs\u001b[0m\u001b[0;34m(\u001b[0m\u001b[0mAmax\u001b[0m \u001b[0;34m-\u001b[0m \u001b[0mAmin\u001b[0m\u001b[0;34m)\u001b[0m \u001b[0;34m/\u001b[0m \u001b[0;36m1e4\u001b[0m\u001b[0;34m\u001b[0m\u001b[0;34m\u001b[0m\u001b[0m\n\u001b[1;32m    646\u001b[0m         return psource.computeMaxNodeAmp(self, threshold(\n\u001b[0;32m--> 647\u001b[0;31m             \u001b[0;32mlambda\u001b[0m \u001b[0mx\u001b[0m\u001b[0;34m:\u001b[0m \u001b[0mself\u001b[0m\u001b[0;34m.\u001b[0m\u001b[0mtitrationFunc\u001b[0m\u001b[0;34m(\u001b[0m\u001b[0mpsource\u001b[0m\u001b[0;34m,\u001b[0m \u001b[0mx\u001b[0m\u001b[0;34m,\u001b[0m \u001b[0mpp\u001b[0m\u001b[0;34m)\u001b[0m\u001b[0;34m,\u001b[0m\u001b[0;34m\u001b[0m\u001b[0;34m\u001b[0m\u001b[0m\n\u001b[0m\u001b[1;32m    648\u001b[0m             (Amin, Amax), eps_thr=A_conv_thr, rel_eps_thr=1e-2, precheck=True))\n",
      "\u001b[0;32m~/Documents/MasterThesis/Code/exsonic/ExSONIC/core/senn.py\u001b[0m in \u001b[0;36mtitrationFunc\u001b[0;34m(self, *args)\u001b[0m\n\u001b[1;32m    327\u001b[0m     \u001b[0;32mdef\u001b[0m \u001b[0mtitrationFunc\u001b[0m\u001b[0;34m(\u001b[0m\u001b[0mself\u001b[0m\u001b[0;34m,\u001b[0m \u001b[0;34m*\u001b[0m\u001b[0margs\u001b[0m\u001b[0;34m)\u001b[0m\u001b[0;34m:\u001b[0m\u001b[0;34m\u001b[0m\u001b[0;34m\u001b[0m\u001b[0m\n\u001b[1;32m    328\u001b[0m         \u001b[0mpsource\u001b[0m\u001b[0;34m,\u001b[0m \u001b[0mA\u001b[0m\u001b[0;34m,\u001b[0m \u001b[0;34m*\u001b[0m\u001b[0margs\u001b[0m \u001b[0;34m=\u001b[0m \u001b[0margs\u001b[0m\u001b[0;34m\u001b[0m\u001b[0;34m\u001b[0m\u001b[0m\n\u001b[0;32m--> 329\u001b[0;31m         \u001b[0mdata\u001b[0m\u001b[0;34m,\u001b[0m \u001b[0m_\u001b[0m \u001b[0;34m=\u001b[0m \u001b[0mself\u001b[0m\u001b[0;34m.\u001b[0m\u001b[0msimulate\u001b[0m\u001b[0;34m(\u001b[0m\u001b[0mpsource\u001b[0m\u001b[0;34m,\u001b[0m \u001b[0mA\u001b[0m\u001b[0;34m,\u001b[0m \u001b[0;34m*\u001b[0m\u001b[0margs\u001b[0m\u001b[0;34m)\u001b[0m\u001b[0;34m\u001b[0m\u001b[0;34m\u001b[0m\u001b[0m\n\u001b[0m\u001b[1;32m    330\u001b[0m         \u001b[0;32mreturn\u001b[0m \u001b[0mself\u001b[0m\u001b[0;34m.\u001b[0m\u001b[0misExcited\u001b[0m\u001b[0;34m(\u001b[0m\u001b[0mdata\u001b[0m\u001b[0;34m)\u001b[0m\u001b[0;34m\u001b[0m\u001b[0;34m\u001b[0m\u001b[0m\n\u001b[1;32m    331\u001b[0m \u001b[0;34m\u001b[0m\u001b[0m\n",
      "\u001b[0;32m~/Documents/MasterThesis/Code/pysonic/PySONIC/core/model.py\u001b[0m in \u001b[0;36mwrapper\u001b[0;34m(self, *args, **kwargs)\u001b[0m\n\u001b[1;32m    232\u001b[0m \u001b[0;34m\u001b[0m\u001b[0m\n\u001b[1;32m    233\u001b[0m             \u001b[0;31m# Execute simulation function\u001b[0m\u001b[0;34m\u001b[0m\u001b[0;34m\u001b[0m\u001b[0;34m\u001b[0m\u001b[0m\n\u001b[0;32m--> 234\u001b[0;31m             \u001b[0;32mreturn\u001b[0m \u001b[0msimfunc\u001b[0m\u001b[0;34m(\u001b[0m\u001b[0mself\u001b[0m\u001b[0;34m,\u001b[0m \u001b[0;34m*\u001b[0m\u001b[0margs\u001b[0m\u001b[0;34m,\u001b[0m \u001b[0;34m**\u001b[0m\u001b[0mkwargs\u001b[0m\u001b[0;34m)\u001b[0m\u001b[0;34m\u001b[0m\u001b[0;34m\u001b[0m\u001b[0m\n\u001b[0m\u001b[1;32m    235\u001b[0m \u001b[0;34m\u001b[0m\u001b[0m\n\u001b[1;32m    236\u001b[0m         \u001b[0;32mreturn\u001b[0m \u001b[0mwrapper\u001b[0m\u001b[0;34m\u001b[0m\u001b[0;34m\u001b[0m\u001b[0m\n",
      "\u001b[0;32m~/Documents/MasterThesis/Code/pysonic/PySONIC/core/model.py\u001b[0m in \u001b[0;36mwrapper\u001b[0;34m(self, *args, **kwargs)\u001b[0m\n\u001b[1;32m    142\u001b[0m         \u001b[0;34m@\u001b[0m\u001b[0mwraps\u001b[0m\u001b[0;34m(\u001b[0m\u001b[0msimfunc\u001b[0m\u001b[0;34m)\u001b[0m\u001b[0;34m\u001b[0m\u001b[0;34m\u001b[0m\u001b[0m\n\u001b[1;32m    143\u001b[0m         \u001b[0;32mdef\u001b[0m \u001b[0mwrapper\u001b[0m\u001b[0;34m(\u001b[0m\u001b[0mself\u001b[0m\u001b[0;34m,\u001b[0m \u001b[0;34m*\u001b[0m\u001b[0margs\u001b[0m\u001b[0;34m,\u001b[0m \u001b[0;34m**\u001b[0m\u001b[0mkwargs\u001b[0m\u001b[0;34m)\u001b[0m\u001b[0;34m:\u001b[0m\u001b[0;34m\u001b[0m\u001b[0;34m\u001b[0m\u001b[0m\n\u001b[0;32m--> 144\u001b[0;31m             \u001b[0mdata\u001b[0m\u001b[0;34m,\u001b[0m \u001b[0mtcomp\u001b[0m \u001b[0;34m=\u001b[0m \u001b[0mtimer\u001b[0m\u001b[0;34m(\u001b[0m\u001b[0msimfunc\u001b[0m\u001b[0;34m)\u001b[0m\u001b[0;34m(\u001b[0m\u001b[0mself\u001b[0m\u001b[0;34m,\u001b[0m \u001b[0;34m*\u001b[0m\u001b[0margs\u001b[0m\u001b[0;34m,\u001b[0m \u001b[0;34m**\u001b[0m\u001b[0mkwargs\u001b[0m\u001b[0;34m)\u001b[0m\u001b[0;34m\u001b[0m\u001b[0;34m\u001b[0m\u001b[0m\n\u001b[0m\u001b[1;32m    145\u001b[0m             \u001b[0mlogger\u001b[0m\u001b[0;34m.\u001b[0m\u001b[0mdebug\u001b[0m\u001b[0;34m(\u001b[0m\u001b[0;34m'completed in %ss'\u001b[0m\u001b[0;34m,\u001b[0m \u001b[0msi_format\u001b[0m\u001b[0;34m(\u001b[0m\u001b[0mtcomp\u001b[0m\u001b[0;34m,\u001b[0m \u001b[0;36m1\u001b[0m\u001b[0;34m)\u001b[0m\u001b[0;34m)\u001b[0m\u001b[0;34m\u001b[0m\u001b[0;34m\u001b[0m\u001b[0m\n\u001b[1;32m    146\u001b[0m \u001b[0;34m\u001b[0m\u001b[0m\n",
      "\u001b[0;32m~/Documents/MasterThesis/Code/pysonic/PySONIC/utils.py\u001b[0m in \u001b[0;36mwrapper\u001b[0;34m(*args, **kwargs)\u001b[0m\n\u001b[1;32m    384\u001b[0m     \u001b[0;32mdef\u001b[0m \u001b[0mwrapper\u001b[0m\u001b[0;34m(\u001b[0m\u001b[0;34m*\u001b[0m\u001b[0margs\u001b[0m\u001b[0;34m,\u001b[0m \u001b[0;34m**\u001b[0m\u001b[0mkwargs\u001b[0m\u001b[0;34m)\u001b[0m\u001b[0;34m:\u001b[0m\u001b[0;34m\u001b[0m\u001b[0;34m\u001b[0m\u001b[0m\n\u001b[1;32m    385\u001b[0m         \u001b[0mstart_time\u001b[0m \u001b[0;34m=\u001b[0m \u001b[0mtime\u001b[0m\u001b[0;34m.\u001b[0m\u001b[0mperf_counter\u001b[0m\u001b[0;34m(\u001b[0m\u001b[0;34m)\u001b[0m\u001b[0;34m\u001b[0m\u001b[0;34m\u001b[0m\u001b[0m\n\u001b[0;32m--> 386\u001b[0;31m         \u001b[0mvalue\u001b[0m \u001b[0;34m=\u001b[0m \u001b[0mfunc\u001b[0m\u001b[0;34m(\u001b[0m\u001b[0;34m*\u001b[0m\u001b[0margs\u001b[0m\u001b[0;34m,\u001b[0m \u001b[0;34m**\u001b[0m\u001b[0mkwargs\u001b[0m\u001b[0;34m)\u001b[0m\u001b[0;34m\u001b[0m\u001b[0;34m\u001b[0m\u001b[0m\n\u001b[0m\u001b[1;32m    387\u001b[0m         \u001b[0mend_time\u001b[0m \u001b[0;34m=\u001b[0m \u001b[0mtime\u001b[0m\u001b[0;34m.\u001b[0m\u001b[0mperf_counter\u001b[0m\u001b[0;34m(\u001b[0m\u001b[0;34m)\u001b[0m\u001b[0;34m\u001b[0m\u001b[0;34m\u001b[0m\u001b[0m\n\u001b[1;32m    388\u001b[0m         \u001b[0mrun_time\u001b[0m \u001b[0;34m=\u001b[0m \u001b[0mend_time\u001b[0m \u001b[0;34m-\u001b[0m \u001b[0mstart_time\u001b[0m\u001b[0;34m\u001b[0m\u001b[0;34m\u001b[0m\u001b[0m\n",
      "\u001b[0;32m~/Documents/MasterThesis/Code/exsonic/ExSONIC/core/senn.py\u001b[0m in \u001b[0;36msimulate\u001b[0;34m(self, psource, A, pp, dt, atol)\u001b[0m\n\u001b[1;32m    268\u001b[0m \u001b[0;34m\u001b[0m\u001b[0m\n\u001b[1;32m    269\u001b[0m         \u001b[0;31m# Integrate model\u001b[0m\u001b[0;34m\u001b[0m\u001b[0;34m\u001b[0m\u001b[0;34m\u001b[0m\u001b[0m\n\u001b[0;32m--> 270\u001b[0;31m         \u001b[0mintegrate\u001b[0m\u001b[0;34m(\u001b[0m\u001b[0mself\u001b[0m\u001b[0;34m,\u001b[0m \u001b[0mpp\u001b[0m\u001b[0;34m,\u001b[0m \u001b[0mdt\u001b[0m\u001b[0;34m,\u001b[0m \u001b[0matol\u001b[0m\u001b[0;34m)\u001b[0m\u001b[0;34m\u001b[0m\u001b[0;34m\u001b[0m\u001b[0m\n\u001b[0m\u001b[1;32m    271\u001b[0m \u001b[0;34m\u001b[0m\u001b[0m\n\u001b[1;32m    272\u001b[0m         \u001b[0;31m# Store output in dataframes\u001b[0m\u001b[0;34m\u001b[0m\u001b[0;34m\u001b[0m\u001b[0;34m\u001b[0m\u001b[0m\n",
      "\u001b[0;32m~/Documents/MasterThesis/Code/exsonic/ExSONIC/core/pyhoc.py\u001b[0m in \u001b[0;36mintegrate\u001b[0;34m(model, pp, dt, atol)\u001b[0m\n\u001b[1;32m    247\u001b[0m     \u001b[0;31m# Integrate\u001b[0m\u001b[0;34m\u001b[0m\u001b[0;34m\u001b[0m\u001b[0;34m\u001b[0m\u001b[0m\n\u001b[1;32m    248\u001b[0m     \u001b[0;32mwhile\u001b[0m \u001b[0mh\u001b[0m\u001b[0;34m.\u001b[0m\u001b[0mt\u001b[0m \u001b[0;34m<\u001b[0m \u001b[0mtstop\u001b[0m\u001b[0;34m:\u001b[0m\u001b[0;34m\u001b[0m\u001b[0;34m\u001b[0m\u001b[0m\n\u001b[0;32m--> 249\u001b[0;31m         \u001b[0mh\u001b[0m\u001b[0;34m.\u001b[0m\u001b[0mfadvance\u001b[0m\u001b[0;34m(\u001b[0m\u001b[0;34m)\u001b[0m\u001b[0;34m\u001b[0m\u001b[0;34m\u001b[0m\u001b[0m\n\u001b[0m\u001b[1;32m    250\u001b[0m \u001b[0;34m\u001b[0m\u001b[0m\n\u001b[1;32m    251\u001b[0m     \u001b[0;31m# Set absolute error tolerance back to default value if changed\u001b[0m\u001b[0;34m\u001b[0m\u001b[0;34m\u001b[0m\u001b[0;34m\u001b[0m\u001b[0m\n",
      "\u001b[0;31mKeyboardInterrupt\u001b[0m: "
     ]
    }
   ],
   "source": [
    "fiberD = 20e-6  # (m)\n",
    "fiber_class = SonicFiber\n",
    "fs=1.\n",
    "Fdrive = 500e3\n",
    "a=64e-9\n",
    "fiber = unmyelinatedFiberSundt(fiber_class, fiberD, a=a, Fdrive=Fdrive, fs=fs)\n",
    "tstim = 1e-3    # s  # duration of the stimulation in Sundt paper\n",
    "toffset = 8e-3  # s\n",
    "pp = PulsedProtocol(tstim, toffset)\n",
    "#pp = PulsedProtocol(tstim, toffset, PRF = 100000., DC=0.5)\n",
    "zdistance = 1e-4 + 0.00534 / 4.5e6 * (Fdrive - 5e5)      \n",
    "psource = PlanarDiskTransducerSource(0, 0, zdistance, Fdrive)\n",
    "Athr = fiber.titrate(psource, pp)  # A\n",
    "print(Athr)\n",
    "u= Athr / psource.relNormalAxisAmp(psource.getMinNodeDistance(fiber))\n",
    "data, meta = fiber.simulate(psource, u, pp)\n",
    "fig = SectionCompTimeSeries([(data, meta)], 'Vm', fiber.ids).render()\n",
    "print(f'cv = {fiber.getConductionVelocity(data, out=\"median\"):.2f} m/s')\n",
    "print(f'dV = {fiber.getSpikeAmp(data, out=\"median\"):.2f} V')"
   ]
  },
  {
   "cell_type": "code",
   "execution_count": null,
   "metadata": {},
   "outputs": [],
   "source": []
  }
 ],
 "metadata": {
  "kernelspec": {
   "display_name": "Python 3",
   "language": "python",
   "name": "python3"
  },
  "language_info": {
   "codemirror_mode": {
    "name": "ipython",
    "version": 3
   },
   "file_extension": ".py",
   "mimetype": "text/x-python",
   "name": "python",
   "nbconvert_exporter": "python",
   "pygments_lexer": "ipython3",
   "version": "3.7.4"
  }
 },
 "nbformat": 4,
 "nbformat_minor": 4
}
